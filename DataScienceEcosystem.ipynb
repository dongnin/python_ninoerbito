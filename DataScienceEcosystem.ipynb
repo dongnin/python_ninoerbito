{
 "cells": [
  {
   "cell_type": "markdown",
   "id": "f9facf95",
   "metadata": {},
   "source": [
    "<h1> Data Science Tools and Ecosystem </h1>"
   ]
  },
  {
   "cell_type": "markdown",
   "id": "0892f2c4",
   "metadata": {},
   "source": [
    "In this notebook, Data Science Tools and Ecosystem are summarized."
   ]
  },
  {
   "cell_type": "markdown",
   "id": "bba53a9d",
   "metadata": {},
   "source": [
    "<b>Objectives:\n",
    "    \n",
    "1. Python\n",
    "2. R\n",
    "3. Sql\n",
    "4. Julia\n",
    "5. C"
   ]
  },
  {
   "cell_type": "markdown",
   "id": "f1543e97",
   "metadata": {},
   "source": [
    "Some of the popular languages that Data Scientists use are:\n",
    "1. Python\n",
    "2. R\n",
    "3. Sql\n",
    "4. Julia"
   ]
  },
  {
   "cell_type": "markdown",
   "id": "3f5b985a",
   "metadata": {},
   "source": [
    "Some of the commonly used libraries used by Data Scientists include:\n",
    "\n",
    "1. Numpy\n",
    "2. Pandas\n",
    "3. SciPy\n",
    "4. PyTorch"
   ]
  },
  {
   "cell_type": "markdown",
   "id": "34e927d6",
   "metadata": {},
   "source": [
    "| Data Science Tools |\n",
    "|---|---|\n",
    "| NumPy | NumPy is a Python library that contains a powerful N-dimensional array object. It is the fundamental package for numerical computation in Python. |\n",
    "| SciPy | SciPy (Scientific Python) is another free and open-source Python library for data science that is extensively used for high-level computations. It contains modules for linear algebra, integration, optimization, and statistics. |\n",
    "| Pandas | Pandas is a Python library for data analysis. It is a must in the data science life cycle. It provides high-performance, easy-to-use data structures and data analysis tools for working with structured (tabular, multidimensional, potentially heterogeneous) and time series data. |"
   ]
  },
  {
   "cell_type": "markdown",
   "id": "1c6d345b",
   "metadata": {},
   "source": [
    "<h3> Below are a few examples of evaluating arithmetic expressions in Python"
   ]
  },
  {
   "cell_type": "code",
   "execution_count": 5,
   "id": "c90c2006",
   "metadata": {},
   "outputs": [
    {
     "data": {
      "text/plain": [
       "17"
      ]
     },
     "execution_count": 5,
     "metadata": {},
     "output_type": "execute_result"
    }
   ],
   "source": [
    "#This a simple arithmetic expression to mutiply then add integers\n",
    "\n",
    "(3*4)+5"
   ]
  },
  {
   "cell_type": "code",
   "execution_count": 6,
   "id": "5a20be44",
   "metadata": {},
   "outputs": [
    {
     "name": "stdout",
     "output_type": "stream",
     "text": [
      "3.3333333333333335\n"
     ]
    }
   ],
   "source": [
    "# This will convert 200 minutes to hours by diving by 60\n",
    "\n",
    "hours = 200 / 60\n",
    "print(hours)"
   ]
  },
  {
   "cell_type": "markdown",
   "id": "36382666",
   "metadata": {},
   "source": [
    "<h2> Author </h2>\n",
    " Niño Erbito"
   ]
  },
  {
   "cell_type": "code",
   "execution_count": null,
   "id": "a3b47f4f",
   "metadata": {},
   "outputs": [],
   "source": []
  }
 ],
 "metadata": {
  "kernelspec": {
   "display_name": "Python 3 (ipykernel)",
   "language": "python",
   "name": "python3"
  },
  "language_info": {
   "codemirror_mode": {
    "name": "ipython",
    "version": 3
   },
   "file_extension": ".py",
   "mimetype": "text/x-python",
   "name": "python",
   "nbconvert_exporter": "python",
   "pygments_lexer": "ipython3",
   "version": "3.9.12"
  }
 },
 "nbformat": 4,
 "nbformat_minor": 5
}
